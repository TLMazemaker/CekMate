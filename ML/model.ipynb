{
  "cells": [
    {
      "cell_type": "markdown",
      "metadata": {
        "id": "g4aZDCgBAhDb"
      },
      "source": [
        "**Model mengklasifikasi mata normal dan mata Leukocoria**"
      ]
    },
    {
      "cell_type": "code",
      "execution_count": null,
      "metadata": {
        "id": "HB90vFnkELtN"
      },
      "outputs": [],
      "source": [
        "!pip install tensorflow"
      ]
    },
    {
      "cell_type": "code",
      "execution_count": null,
      "metadata": {
        "id": "KjzygufU4AJA"
      },
      "outputs": [],
      "source": [
        "from sklearn.metrics import confusion_matrix\n",
        "import tensorflow as tf\n",
        "from tensorflow.keras.preprocessing.image import ImageDataGenerator\n",
        "from tensorflow.keras.optimizers import RMSprop\n",
        "import numpy as np\n",
        "from google.colab import files\n",
        "from tensorflow.keras.utils import load_img, img_to_array\n",
        "import matplotlib.image as mpimg\n",
        "import matplotlib.pyplot as plt\n",
        "%matplotlib inline\n",
        "import os"
      ]
    },
    {
      "cell_type": "markdown",
      "metadata": {
        "id": "WTN2LjM_J2mg"
      },
      "source": [
        "**Prepare The Dataset**"
      ]
    },
    {
      "cell_type": "markdown",
      "metadata": {
        "id": "8MdDqGCkJ7lG"
      },
      "source": [
        "We prepare the dataset with 2 classes. Leukocoria eye and Normal eye. We put the dataset in drive and GitHub, But in this code, we use drive to access the dataset."
      ]
    },
    {
      "cell_type": "code",
      "execution_count": null,
      "metadata": {
        "colab": {
          "base_uri": "https://localhost:8080/"
        },
        "id": "B78l9U1XBIAT",
        "outputId": "1648b72a-6572-4cf8-e9cb-bf0bb3820425"
      },
      "outputs": [
        {
          "output_type": "stream",
          "name": "stdout",
          "text": [
            "Mounted at /content/drive\n"
          ]
        }
      ],
      "source": [
        "from google.colab import drive\n",
        "drive.mount('/content/drive')"
      ]
    },
    {
      "cell_type": "code",
      "execution_count": null,
      "metadata": {
        "id": "iLkxR9c5AxvH"
      },
      "outputs": [],
      "source": [
        "#Path Dataset\n",
        "train_normal_dir = os.path.join('/content/drive/Shareddrives/Capstone/Training/Normal')\n",
        "validation_normal_dir = os.path.join('/content/drive/Shareddrives/Capstone/Validation/Normal')\n",
        "\n",
        "train_leukocoria_dir = os.path.join('/content/drive/Shareddrives/Capstone/Training/Leukocoria')\n",
        "validation_leukocoria_dir = os.path.join('/content/drive/Shareddrives/Capstone/Validation/Leukocoria')"
      ]
    },
    {
      "cell_type": "code",
      "execution_count": null,
      "metadata": {
        "colab": {
          "base_uri": "https://localhost:8080/"
        },
        "id": "wEum2hajLfE9",
        "outputId": "f0df7ab7-14ed-43e1-acac-e011c0eb405c"
      },
      "outputs": [
        {
          "output_type": "stream",
          "name": "stdout",
          "text": [
            "File dalam Training Mata Normal:  ['r3.png', 'r4.png', 'r1.png', 'r5.jpg', 'r2.png', 'r6.jpg', 'r7.png', 'r8.png', 'r9.png', 'r10.png', 'r11.png', 'r12.png', 'r13.png', 'r14.png', 'r15.png', 'r16.png', 'r17.jpg', 'r18.png', 'r19.png', 'r20.png', 'r21.png', 'r22.png', 'r23.png', 'r24.png', 'r25.png', 'r26.png', 'r27.png', 'r28.png', 'r29.png', 'r30.png', 'r31.png', 'r32.png', 'r33.png', 'r34.png', 'r35.png', 'r36.png', 'r37.png', 'r38.png', 'r39.png', 'r40.png', 'r41.png', 'r42.png', 'r43.png', 'r44.png', 'r45.png', 'r46.png', 'r47.png', 'r48.png', 'r49.png', 'r50.png', 'r51.png', 'r52.png', 'r53.png', 'r54.png', 'r55.png', 'r56.png', 'r57.png', 'r58.png', 'r59.png', 'r60.png', 'r61.png', 'r62.png', 'r63.png', 'r64.png', 'r65.png', 'r66.png', 'r67.png', 'r68.png', 'r69.png', 'r70.png', 'r71.png', 'r72.png', 'r73.png', 'r74.png', 'r75.png', 'r76.png', 'r77.png', 'r78.png', 'r79.png', 'r80.png', 'r81.png', 'r82.png', 'r83.png', 'r84.png', 'r85.png', 'r86.png', 'r87.png', 'r88.png', 'r89.png', 'r90.png', 'r91.png', 'r92.png', 'r93.png', 'r94.png', 'r95.png', 'r96.png', 'r97.png', 'r98.png', 'r99.png', 'r100.png', 'r101.png', 'r102.png', 'r103.png', 'r104.png', 'r105.png', 'r106.png', 'r107.png', 'r108.png', 'r109.png', 'r110.png', 'r111.png', 'r112.png', 'r113.png', 'r114.png', 'r115.png', 'r116.png', 'r117.png', 'r118.png', 'r119.png', 'r120.png', 'r121.png', 'r122.png', 'r123.png', 'r124.png', 'r125.png', 'r126.png', 'r127.png', 'r128.png', 'r129.png', 'r130.png', 'r131.png', 'r132.png', 'r133.png', 'r134.png', 'r135.png', 'r136.png', 'r137.png', 'r138.png', 'r139.png', 'r140.png', 'r141.png', 'r142.png', 'r143.png', 'r144.png', 'r145.png', 'r146.png', 'r147.png', 'r148.png', 'r149.png', 'r150.png', 'r151.png', 'r152.png', 'r153.png', 'r154.png', 'r155.png', 'r156.png', 'r157.png', 'r158.png', 'r159.png', 'r160.png', 'r161.PNG', 'r162.PNG', 'r163.PNG', 'r164.PNG', 'r165.PNG', 'r166.PNG', 'r167.PNG', 'r168.PNG', 'r169.PNG', 'r170.PNG', 'r171.png', 'r172.PNG', 'r173.PNG', 'r174.PNG', 'r175.PNG']\n",
            "File dalam Training Mata Leukocoria:  ['L82.PNG', 'L78.PNG', 'L74.PNG', 'L72.PNG', 'L80.PNG', 'L73.PNG', 'L83.PNG', 'L69.PNG', 'L55.PNG', 'L70.PNG', 'L58.PNG', 'L84.PNG', 'L79.PNG', 'L71.PNG', 'L75.PNG', 'L76.PNG', 'L68.PNG', 'L63.PNG', 'L64.PNG', 'L62.PNG', 'L77.PNG', 'L47.PNG', 'L28.PNG', 'L23.PNG', 'L56.PNG', 'L22.PNG', 'L20.PNG', 'L34.PNG', 'L81.PNG', 'L36.PNG', 'L59.PNG', 'L46.PNG', 'L53.PNG', 'L51.PNG', 'L33.PNG', 'L61.PNG', 'L32.PNG', 'L48.PNG', 'L50.PNG', 'L49.PNG', 'L54.PNG', 'L26.PNG', 'L45.PNG', 'L57.PNG', 'L67.PNG', 'L39.PNG', 'L40.PNG', 'L52.PNG', 'L42.PNG', 'L44.PNG', 'L66.PNG', 'L41.PNG', 'L29.PNG', 'L38.PNG', 'L21.PNG', 'L31.PNG', 'L16.PNG', 'L8.PNG', 'L9.PNG', 'L35.PNG', 'L5.PNG', 'L18.PNG', 'L3.PNG', 'L19.PNG', 'L37.PNG', 'L6.PNG', 'L13.PNG', 'L24.PNG', 'L7.PNG', 'L10.PNG', 'L2.PNG', 'L60.PNG', 'L11.PNG', 'L25.PNG', 'L43.PNG', 'L17.PNG', 'L65.PNG', 'L30.PNG', 'L12.PNG', 'L4.PNG', 'L1.png', 'L15.PNG', 'L27.PNG', 'L14.PNG']\n",
            "File dalam Validation Mata Normal:  ['r176.PNG', 'r177.PNG', 'r178.PNG', 'r179.PNG', 'r180.PNG', 'r181.png', 'r182.png', 'r183.png', 'r184.png', 'r187.png', 'r185.png', 'r188.png', 'r189.jpg', 'r190.png', 'r186.jpg', 'r191.png', 'r192.png', 'r193.png', 'r194.png', 'r195.png', 'r196.png', 'r197.png', 'r198.png', 'r199.PNG', 'r200.PNG', 'r201.PNG', 'r202.PNG', 'r203.PNG', 'r204.PNG', 'r205.PNG', 'r206.PNG', 'r207.PNG', 'r208.PNG', 'r209.PNG', 'r210.PNG', 'r211.PNG', 'r212.PNG', 'r213.PNG', 'r214.PNG', 'r215.PNG', 'r216.PNG', 'r217.PNG', 'r218.PNG', 'r219.png', 'r220.png', 'r221.png', 'r223.png', 'r224.png', 'r225.png', 'r222.png', 'r226.png', 'r227.png', 'r228.png', 'r229.png', 'r230.png', 'r231.png', 'r232.png', 'r233.png', 'r234.png', 'r235.png', 'r236.png', 'r237.png', 'r238.png', 'r239.png', 'r240.png', 'r250.PNG', 'r249.PNG', 'r248.PNG', 'r247.PNG', 'r241.PNG', 'r242.PNG', 'r243.PNG', 'r244.PNG', 'r245.PNG', 'r246.PNG']\n",
            "File dalam Validation Mata Leukocoria:  ['L120.PNG', 'L86.PNG', 'L91.PNG', 'L110.PNG', 'L102.PNG', 'L107.PNG', 'L109.PNG', 'L113.PNG', 'L115.PNG', 'L106.PNG', 'L97.PNG', 'L100.PNG', 'L104.PNG', 'L103.PNG', 'L111.PNG', 'L101.PNG', 'L96.PNG', 'L116.PNG', 'L119.PNG', 'L118.PNG', 'L99.PNG', 'L93.PNG', 'L108.PNG', 'L117.PNG', 'L89.PNG', 'L112.PNG', 'L114.PNG', 'L92.PNG', 'L87.PNG', 'L90.PNG', 'L94.PNG', 'L95.PNG', 'L88.PNG', 'L85.PNG', 'L105.PNG', 'L98.PNG']\n"
          ]
        }
      ],
      "source": [
        "#Check Dataset\n",
        "train_name_normal = os.listdir(train_normal_dir)\n",
        "print('File dalam Training Mata Normal: ', train_name_normal)\n",
        "train_name_leukocoria = os.listdir(train_leukocoria_dir)\n",
        "print('File dalam Training Mata Leukocoria: ', train_name_leukocoria)\n",
        "validation_name_normal = os.listdir(validation_normal_dir)\n",
        "print('File dalam Validation Mata Normal: ', validation_name_normal)\n",
        "validation_name_leukocoria = os.listdir(validation_leukocoria_dir)\n",
        "print('File dalam Validation Mata Leukocoria: ', validation_name_leukocoria)"
      ]
    },
    {
      "cell_type": "code",
      "execution_count": null,
      "metadata": {
        "colab": {
          "base_uri": "https://localhost:8080/"
        },
        "id": "g1RfhI-oKQOb",
        "outputId": "e5605c85-f1ae-473c-fbbd-738703ea7f83"
      },
      "outputs": [
        {
          "output_type": "stream",
          "name": "stdout",
          "text": [
            "Total Training Mata Normal:  175\n",
            "Total Training Mata Leukocoria:  84\n",
            "Total Validation Mata Normal:  75\n",
            "Total Validation Mata Leukocoria:  36\n"
          ]
        }
      ],
      "source": [
        "#Check total data\n",
        "print('Total Training Mata Normal: ', len(os.listdir(train_normal_dir)))\n",
        "print('Total Training Mata Leukocoria: ', len(os.listdir(train_leukocoria_dir)))\n",
        "print('Total Validation Mata Normal: ', len(os.listdir(validation_normal_dir)))\n",
        "print('Total Validation Mata Leukocoria: ', len(os.listdir(validation_leukocoria_dir)))"
      ]
    },
    {
      "cell_type": "code",
      "source": [],
      "metadata": {
        "id": "lT5uzcyi2wUM"
      },
      "execution_count": null,
      "outputs": []
    },
    {
      "cell_type": "markdown",
      "metadata": {
        "id": "rMVgvUc5LYNI"
      },
      "source": [
        "# **Pre-Processing Image**"
      ]
    },
    {
      "cell_type": "markdown",
      "source": [
        "Here we take the images and we augment it so we have many similar images and then we flow them in batches."
      ],
      "metadata": {
        "id": "QvfcdWRy3jTE"
      }
    },
    {
      "cell_type": "code",
      "execution_count": null,
      "metadata": {
        "colab": {
          "base_uri": "https://localhost:8080/"
        },
        "id": "iGYz5G9_O4cp",
        "outputId": "d9871994-1b69-4088-8630-b4dc151f1288"
      },
      "outputs": [
        {
          "output_type": "stream",
          "name": "stdout",
          "text": [
            "Found 259 images belonging to 2 classes.\n",
            "Found 111 images belonging to 2 classes.\n"
          ]
        }
      ],
      "source": [
        "#Rescale Image\n",
        "train_datagen = ImageDataGenerator(rescale=1/255, rotation_range = 20, horizontal_flip = True, vertical_flip = True, shear_range=0.2, fill_mode='nearest')\n",
        "validation_datagen = ImageDataGenerator(rescale=1/255, rotation_range = 20, horizontal_flip = True, vertical_flip = True, shear_range=0.2, fill_mode='nearest')\n",
        "\n",
        "# Flow training images in batches \n",
        "train_generator = train_datagen.flow_from_directory(\n",
        "        '/content/drive/Shareddrives/Capstone/Training/',  \n",
        "        target_size=(150, 150),  \n",
        "        batch_size=32,\n",
        "        \n",
        "        class_mode='categorical')\n",
        "\n",
        "# Flow validation images in batches \n",
        "validation_generator = validation_datagen.flow_from_directory(\n",
        "        '/content/drive/Shareddrives/Capstone/Validation/',  \n",
        "        target_size=(150, 150),  \n",
        "        batch_size=8,\n",
        "        \n",
        "        class_mode='categorical')"
      ]
    },
    {
      "cell_type": "markdown",
      "metadata": {
        "id": "pc4uogP5N400"
      },
      "source": [
        "# **CREATE THE MODEL**\n",
        "\n",
        "In this cell, we make a model with TensorFlow and Keras. We use five Convolution and five MaxPooling2D. We use softmax even though only 2 classes are available, because from our experiments we get better accuracy using softmax than using sigmoid."
      ]
    },
    {
      "cell_type": "code",
      "execution_count": null,
      "metadata": {
        "id": "SOYp4x2IOEjx"
      },
      "outputs": [],
      "source": [
        "model = tf.keras.models.Sequential([\n",
        "    # First convolution\n",
        "    tf.keras.layers.Conv2D(16, (3,3), activation='relu', input_shape=(150, 150, 3)),\n",
        "    tf.keras.layers.MaxPooling2D(2, 2),\n",
        "    # The second convolution\n",
        "    tf.keras.layers.Conv2D(32, (3,3), activation='relu'),\n",
        "    tf.keras.layers.MaxPooling2D(2,2),\n",
        "    # The third convolution\n",
        "    tf.keras.layers.Conv2D(64, (3,3), activation='relu'),\n",
        "    tf.keras.layers.MaxPooling2D(2,2),\n",
        "    # The fourth convolution \n",
        "    tf.keras.layers.Conv2D(128, (3,3), activation='relu'),\n",
        "    tf.keras.layers.MaxPooling2D(2,2),\n",
        "    # The fifth convolution\n",
        "    tf.keras.layers.Conv2D(256, (3,3), activation='relu'),\n",
        "    tf.keras.layers.MaxPooling2D(2,2),\n",
        "    # Flatten the results to feed into a DNN\n",
        "    tf.keras.layers.Flatten(),\n",
        "    # 512 neuron hidden layer\n",
        "    tf.keras.layers.Dense(512, activation='relu'),\n",
        "    tf.keras.layers.Dropout(0.2),\n",
        "    #256 neuron hidden layer\n",
        "    tf.keras.layers.Dense(256, activation='relu'),\n",
        "    tf.keras.layers.Dropout(0.2),\n",
        "    # 1 output neuron for normal and leukocoria\n",
        "    tf.keras.layers.Dense(2, activation='softmax')\n",
        "    ])"
      ]
    },
    {
      "cell_type": "code",
      "execution_count": null,
      "metadata": {
        "colab": {
          "base_uri": "https://localhost:8080/"
        },
        "id": "tVdJFVmZOnU5",
        "outputId": "cc263789-e313-4e36-c503-ac2399de6395"
      },
      "outputs": [
        {
          "output_type": "stream",
          "name": "stdout",
          "text": [
            "Model: \"sequential\"\n",
            "_________________________________________________________________\n",
            " Layer (type)                Output Shape              Param #   \n",
            "=================================================================\n",
            " conv2d (Conv2D)             (None, 148, 148, 16)      448       \n",
            "                                                                 \n",
            " max_pooling2d (MaxPooling2D  (None, 74, 74, 16)       0         \n",
            " )                                                               \n",
            "                                                                 \n",
            " conv2d_1 (Conv2D)           (None, 72, 72, 32)        4640      \n",
            "                                                                 \n",
            " max_pooling2d_1 (MaxPooling  (None, 36, 36, 32)       0         \n",
            " 2D)                                                             \n",
            "                                                                 \n",
            " conv2d_2 (Conv2D)           (None, 34, 34, 64)        18496     \n",
            "                                                                 \n",
            " max_pooling2d_2 (MaxPooling  (None, 17, 17, 64)       0         \n",
            " 2D)                                                             \n",
            "                                                                 \n",
            " conv2d_3 (Conv2D)           (None, 15, 15, 128)       73856     \n",
            "                                                                 \n",
            " max_pooling2d_3 (MaxPooling  (None, 7, 7, 128)        0         \n",
            " 2D)                                                             \n",
            "                                                                 \n",
            " conv2d_4 (Conv2D)           (None, 5, 5, 256)         295168    \n",
            "                                                                 \n",
            " max_pooling2d_4 (MaxPooling  (None, 2, 2, 256)        0         \n",
            " 2D)                                                             \n",
            "                                                                 \n",
            " flatten (Flatten)           (None, 1024)              0         \n",
            "                                                                 \n",
            " dense (Dense)               (None, 512)               524800    \n",
            "                                                                 \n",
            " dropout (Dropout)           (None, 512)               0         \n",
            "                                                                 \n",
            " dense_1 (Dense)             (None, 256)               131328    \n",
            "                                                                 \n",
            " dropout_1 (Dropout)         (None, 256)               0         \n",
            "                                                                 \n",
            " dense_2 (Dense)             (None, 2)                 514       \n",
            "                                                                 \n",
            "=================================================================\n",
            "Total params: 1,049,250\n",
            "Trainable params: 1,049,250\n",
            "Non-trainable params: 0\n",
            "_________________________________________________________________\n"
          ]
        }
      ],
      "source": [
        "model.summary()"
      ]
    },
    {
      "cell_type": "code",
      "execution_count": null,
      "metadata": {
        "id": "A0rFInJMOu4X"
      },
      "outputs": [],
      "source": [
        "model.compile(loss='categorical_crossentropy',\n",
        "              optimizer=tf.optimizers.Adam(learning_rate=0.001), \n",
        "              metrics=['accuracy'])"
      ]
    },
    {
      "cell_type": "markdown",
      "metadata": {
        "id": "Qoabl8wHLinZ"
      },
      "source": [
        "# **Train The Model**\n",
        "\n",
        "Here we train the model using 20 epochs and using 8 steps per epoch."
      ]
    },
    {
      "cell_type": "code",
      "execution_count": null,
      "metadata": {
        "colab": {
          "base_uri": "https://localhost:8080/"
        },
        "id": "ToD2qzzpQeL-",
        "outputId": "e7173e0a-6ebd-4bc4-e8a7-dbb9d583da98"
      },
      "outputs": [
        {
          "output_type": "stream",
          "name": "stdout",
          "text": [
            "Epoch 1/20\n",
            "8/8 [==============================] - 6s 340ms/step - loss: 0.2743 - accuracy: 0.8855 - val_loss: 0.4860 - val_accuracy: 0.7969\n",
            "Epoch 2/20\n",
            "8/8 [==============================] - 3s 441ms/step - loss: 0.2220 - accuracy: 0.9119 - val_loss: 0.6968 - val_accuracy: 0.7031\n",
            "Epoch 3/20\n",
            "8/8 [==============================] - 3s 420ms/step - loss: 0.1631 - accuracy: 0.9251 - val_loss: 0.9564 - val_accuracy: 0.6406\n",
            "Epoch 4/20\n",
            "8/8 [==============================] - 3s 405ms/step - loss: 0.1378 - accuracy: 0.9339 - val_loss: 0.6410 - val_accuracy: 0.8281\n",
            "Epoch 5/20\n",
            "8/8 [==============================] - 3s 331ms/step - loss: 0.2135 - accuracy: 0.9295 - val_loss: 0.5847 - val_accuracy: 0.7812\n",
            "Epoch 6/20\n",
            "8/8 [==============================] - 3s 423ms/step - loss: 0.1472 - accuracy: 0.9297 - val_loss: 0.4162 - val_accuracy: 0.8125\n",
            "Epoch 7/20\n",
            "8/8 [==============================] - 3s 336ms/step - loss: 0.1259 - accuracy: 0.9559 - val_loss: 0.4962 - val_accuracy: 0.8281\n",
            "Epoch 8/20\n",
            "8/8 [==============================] - 3s 340ms/step - loss: 0.1033 - accuracy: 0.9559 - val_loss: 0.3965 - val_accuracy: 0.8906\n",
            "Epoch 9/20\n",
            "8/8 [==============================] - 3s 414ms/step - loss: 0.0705 - accuracy: 0.9692 - val_loss: 0.8180 - val_accuracy: 0.8438\n",
            "Epoch 10/20\n",
            "8/8 [==============================] - 3s 453ms/step - loss: 0.0369 - accuracy: 0.9868 - val_loss: 0.8624 - val_accuracy: 0.7812\n",
            "Epoch 11/20\n",
            "8/8 [==============================] - 3s 351ms/step - loss: 0.1017 - accuracy: 0.9688 - val_loss: 0.6426 - val_accuracy: 0.8594\n",
            "Epoch 12/20\n",
            "8/8 [==============================] - 3s 361ms/step - loss: 0.0711 - accuracy: 0.9692 - val_loss: 0.2085 - val_accuracy: 0.9531\n",
            "Epoch 13/20\n",
            "8/8 [==============================] - 4s 496ms/step - loss: 0.0824 - accuracy: 0.9570 - val_loss: 0.2906 - val_accuracy: 0.8906\n",
            "Epoch 14/20\n",
            "8/8 [==============================] - 3s 360ms/step - loss: 0.0899 - accuracy: 0.9692 - val_loss: 0.4357 - val_accuracy: 0.8750\n",
            "Epoch 15/20\n",
            "8/8 [==============================] - 3s 330ms/step - loss: 0.0996 - accuracy: 0.9559 - val_loss: 1.9109 - val_accuracy: 0.5469\n",
            "Epoch 16/20\n",
            "8/8 [==============================] - 3s 410ms/step - loss: 0.1917 - accuracy: 0.9339 - val_loss: 0.3208 - val_accuracy: 0.8906\n",
            "Epoch 17/20\n",
            "8/8 [==============================] - 3s 326ms/step - loss: 0.1564 - accuracy: 0.9339 - val_loss: 0.2929 - val_accuracy: 0.8750\n",
            "Epoch 18/20\n",
            "8/8 [==============================] - 3s 331ms/step - loss: 0.0809 - accuracy: 0.9736 - val_loss: 0.2739 - val_accuracy: 0.9219\n",
            "Epoch 19/20\n",
            "8/8 [==============================] - 4s 471ms/step - loss: 0.0761 - accuracy: 0.9780 - val_loss: 0.1340 - val_accuracy: 0.9688\n",
            "Epoch 20/20\n",
            "8/8 [==============================] - 3s 411ms/step - loss: 0.0829 - accuracy: 0.9780 - val_loss: 0.9053 - val_accuracy: 0.7500\n"
          ]
        }
      ],
      "source": [
        "history = model.fit(\n",
        "      train_generator,\n",
        "      steps_per_epoch=8,  \n",
        "      epochs=20,\n",
        "      verbose=1,\n",
        "      validation_data = validation_generator,\n",
        "      validation_steps=8)"
      ]
    },
    {
      "cell_type": "markdown",
      "metadata": {
        "id": "sdGV8v3ILq0q"
      },
      "source": [
        "# **Evaluating The Model**"
      ]
    },
    {
      "cell_type": "code",
      "execution_count": null,
      "metadata": {
        "id": "1f2ybdneLvfv",
        "colab": {
          "base_uri": "https://localhost:8080/",
          "height": 922
        },
        "outputId": "bdde1812-882c-4ef5-c60c-d6053c46d62d"
      },
      "outputs": [
        {
          "output_type": "display_data",
          "data": {
            "text/plain": [
              "<Figure size 640x480 with 1 Axes>"
            ],
            "image/png": "[encoded data removed]"
          },
          "metadata": {}
        },
        {
          "output_type": "display_data",
          "data": {
            "text/plain": [
              "<Figure size 640x480 with 0 Axes>"
            ]
          },
          "metadata": {}
        },
        {
          "output_type": "display_data",
          "data": {
            "text/plain": [
              "<Figure size 640x480 with 1 Axes>"
            ],
            "image/png": "[encoded data removed]"
          },
          "metadata": {}
        },
        {
          "output_type": "display_data",
          "data": {
            "text/plain": [
              "<Figure size 640x480 with 0 Axes>"
            ]
          },
          "metadata": {}
        }
      ],
      "source": [
        "#Accuracy\n",
        "acc=history.history['accuracy']\n",
        "val_acc=history.history['val_accuracy']\n",
        "\n",
        "epochs = range(len(acc))\n",
        "\n",
        "plt.plot(epochs, acc, 'g', label='Training accuracy')\n",
        "plt.plot(epochs, val_acc, 'b', label='Validation accuracy')\n",
        "plt.title('Training and validation accuracy')\n",
        "plt.legend(loc=0)\n",
        "plt.figure()\n",
        "plt.show()\n",
        "\n",
        "#Loss\n",
        "loss=history.history['loss']\n",
        "val_loss=history.history['val_loss']\n",
        "\n",
        "plt.plot(epochs, loss, 'r', label='Training loss')\n",
        "plt.plot(epochs, val_loss, 'orange', label='Validation loss')\n",
        "plt.title('Training and validation loss')\n",
        "plt.legend(loc=0)\n",
        "plt.figure()\n",
        "plt.show()"
      ]
    },
    {
      "cell_type": "markdown",
      "metadata": {
        "id": "fLZ2Zj_4MH74"
      },
      "source": [
        "# **Predict Image**"
      ]
    },
    {
      "cell_type": "code",
      "execution_count": null,
      "metadata": {
        "colab": {
          "base_uri": "https://localhost:8080/",
          "height": 125
        },
        "id": "8BrMtT9OTj_J",
        "outputId": "deb4e4a3-83de-411b-a699-1bc323a35706"
      },
      "outputs": [
        {
          "output_type": "display_data",
          "data": {
            "text/plain": [
              "<IPython.core.display.HTML object>"
            ],
            "text/html": [
              "\n",
              "     <input type=\"file\" id=\"files-2e2d65f2-7a6c-4219-9192-19c6b86f598c\" name=\"files[]\" multiple disabled\n",
              "        style=\"border:none\" />\n",
              "     <output id=\"result-2e2d65f2-7a6c-4219-9192-19c6b86f598c\">\n",
              "      Upload widget is only available when the cell has been executed in the\n",
              "      current browser session. Please rerun this cell to enable.\n",
              "      </output>\n",
              "      <script>// Copyright 2017 Google LLC\n",
              "//\n",
              "// Licensed under the Apache License, Version 2.0 (the \"License\");\n",
              "// you may not use this file except in compliance with the License.\n",
              "// You may obtain a copy of the License at\n",
              "//\n",
              "//      http://www.apache.org/licenses/LICENSE-2.0\n",
              "//\n",
              "// Unless required by applicable law or agreed to in writing, software\n",
              "// distributed under the License is distributed on an \"AS IS\" BASIS,\n",
              "// WITHOUT WARRANTIES OR CONDITIONS OF ANY KIND, either express or implied.\n",
              "// See the License for the specific language governing permissions and\n",
              "// limitations under the License.\n",
              "\n",
              "/**\n",
              " * @fileoverview Helpers for google.colab Python module.\n",
              " */\n",
              "(function(scope) {\n",
              "function span(text, styleAttributes = {}) {\n",
              "  const element = document.createElement('span');\n",
              "  element.textContent = text;\n",
              "  for (const key of Object.keys(styleAttributes)) {\n",
              "    element.style[key] = styleAttributes[key];\n",
              "  }\n",
              "  return element;\n",
              "}\n",
              "\n",
              "// Max number of bytes which will be uploaded at a time.\n",
              "const MAX_PAYLOAD_SIZE = 100 * 1024;\n",
              "\n",
              "function _uploadFiles(inputId, outputId) {\n",
              "  const steps = uploadFilesStep(inputId, outputId);\n",
              "  const outputElement = document.getElementById(outputId);\n",
              "  // Cache steps on the outputElement to make it available for the next call\n",
              "  // to uploadFilesContinue from Python.\n",
              "  outputElement.steps = steps;\n",
              "\n",
              "  return _uploadFilesContinue(outputId);\n",
              "}\n",
              "\n",
              "// This is roughly an async generator (not supported in the browser yet),\n",
              "// where there are multiple asynchronous steps and the Python side is going\n",
              "// to poll for completion of each step.\n",
              "// This uses a Promise to block the python side on completion of each step,\n",
              "// then passes the result of the previous step as the input to the next step.\n",
              "function _uploadFilesContinue(outputId) {\n",
              "  const outputElement = document.getElementById(outputId);\n",
              "  const steps = outputElement.steps;\n",
              "\n",
              "  const next = steps.next(outputElement.lastPromiseValue);\n",
              "  return Promise.resolve(next.value.promise).then((value) => {\n",
              "    // Cache the last promise value to make it available to the next\n",
              "    // step of the generator.\n",
              "    outputElement.lastPromiseValue = value;\n",
              "    return next.value.response;\n",
              "  });\n",
              "}\n",
              "\n",
              "/**\n",
              " * Generator function which is called between each async step of the upload\n",
              " * process.\n",
              " * @param {string} inputId Element ID of the input file picker element.\n",
              " * @param {string} outputId Element ID of the output display.\n",
              " * @return {!Iterable<!Object>} Iterable of next steps.\n",
              " */\n",
              "function* uploadFilesStep(inputId, outputId) {\n",
              "  const inputElement = document.getElementById(inputId);\n",
              "  inputElement.disabled = false;\n",
              "\n",
              "  const outputElement = document.getElementById(outputId);\n",
              "  outputElement.innerHTML = '';\n",
              "\n",
              "  const pickedPromise = new Promise((resolve) => {\n",
              "    inputElement.addEventListener('change', (e) => {\n",
              "      resolve(e.target.files);\n",
              "    });\n",
              "  });\n",
              "\n",
              "  const cancel = document.createElement('button');\n",
              "  inputElement.parentElement.appendChild(cancel);\n",
              "  cancel.textContent = 'Cancel upload';\n",
              "  const cancelPromise = new Promise((resolve) => {\n",
              "    cancel.onclick = () => {\n",
              "      resolve(null);\n",
              "    };\n",
              "  });\n",
              "\n",
              "  // Wait for the user to pick the files.\n",
              "  const files = yield {\n",
              "    promise: Promise.race([pickedPromise, cancelPromise]),\n",
              "    response: {\n",
              "      action: 'starting',\n",
              "    }\n",
              "  };\n",
              "\n",
              "  cancel.remove();\n",
              "\n",
              "  // Disable the input element since further picks are not allowed.\n",
              "  inputElement.disabled = true;\n",
              "\n",
              "  if (!files) {\n",
              "    return {\n",
              "      response: {\n",
              "        action: 'complete',\n",
              "      }\n",
              "    };\n",
              "  }\n",
              "\n",
              "  for (const file of files) {\n",
              "    const li = document.createElement('li');\n",
              "    li.append(span(file.name, {fontWeight: 'bold'}));\n",
              "    li.append(span(\n",
              "        `(${file.type || 'n/a'}) - ${file.size} bytes, ` +\n",
              "        `last modified: ${\n",
              "            file.lastModifiedDate ? file.lastModifiedDate.toLocaleDateString() :\n",
              "                                    'n/a'} - `));\n",
              "    const percent = span('0% done');\n",
              "    li.appendChild(percent);\n",
              "\n",
              "    outputElement.appendChild(li);\n",
              "\n",
              "    const fileDataPromise = new Promise((resolve) => {\n",
              "      const reader = new FileReader();\n",
              "      reader.onload = (e) => {\n",
              "        resolve(e.target.result);\n",
              "      };\n",
              "      reader.readAsArrayBuffer(file);\n",
              "    });\n",
              "    // Wait for the data to be ready.\n",
              "    let fileData = yield {\n",
              "      promise: fileDataPromise,\n",
              "      response: {\n",
              "        action: 'continue',\n",
              "      }\n",
              "    };\n",
              "\n",
              "    // Use a chunked sending to avoid message size limits. See b/62115660.\n",
              "    let position = 0;\n",
              "    do {\n",
              "      const length = Math.min(fileData.byteLength - position, MAX_PAYLOAD_SIZE);\n",
              "      const chunk = new Uint8Array(fileData, position, length);\n",
              "      position += length;\n",
              "\n",
              "      const base64 = btoa(String.fromCharCode.apply(null, chunk));\n",
              "      yield {\n",
              "        response: {\n",
              "          action: 'append',\n",
              "          file: file.name,\n",
              "          data: base64,\n",
              "        },\n",
              "      };\n",
              "\n",
              "      let percentDone = fileData.byteLength === 0 ?\n",
              "          100 :\n",
              "          Math.round((position / fileData.byteLength) * 100);\n",
              "      percent.textContent = `${percentDone}% done`;\n",
              "\n",
              "    } while (position < fileData.byteLength);\n",
              "  }\n",
              "\n",
              "  // All done.\n",
              "  yield {\n",
              "    response: {\n",
              "      action: 'complete',\n",
              "    }\n",
              "  };\n",
              "}\n",
              "\n",
              "scope.google = scope.google || {};\n",
              "scope.google.colab = scope.google.colab || {};\n",
              "scope.google.colab._files = {\n",
              "  _uploadFiles,\n",
              "  _uploadFilesContinue,\n",
              "};\n",
              "})(self);\n",
              "</script> "
            ]
          },
          "metadata": {}
        },
        {
          "output_type": "stream",
          "name": "stdout",
          "text": [
            "Saving lasttest.jpg to lasttest.jpg\n",
            "1/1 [==============================] - 0s 20ms/step\n",
            "False 0.991865\n",
            "Normal\n"
          ]
        }
      ],
      "source": [
        "uploaded = files.upload()\n",
        "\n",
        "for fn in uploaded.keys():\n",
        " \n",
        "  # predicting images\n",
        "  path = '/content/' + fn\n",
        "  img = load_img(path, target_size=(150, 150))\n",
        "  x = img_to_array(img)\n",
        "  x /= 255\n",
        "  x = np.expand_dims(x, axis=0)\n",
        "\n",
        "  images = np.vstack([x])\n",
        "  classes = model.predict(images, batch_size=10)\n",
        "  Leukocoria = np.argmax(classes[0])==0\n",
        "  print(Leukocoria, max(classes[0]))\n",
        "  if Leukocoria == True:\n",
        "    print(\"Leukocoria\")\n",
        "  else:\n",
        "    print(\"Normal\")"
      ]
    },
    {
      "cell_type": "markdown",
      "metadata": {
        "id": "uVf18q8uWIdJ"
      },
      "source": [
        "# Saving The Model"
      ]
    },
    {
      "cell_type": "code",
      "execution_count": null,
      "metadata": {
        "id": "iZrs47IBWGhV"
      },
      "outputs": [],
      "source": [
        "model.save('Leukocoria_Cekmate.h5')"
      ]
    }
  ],
  "metadata": {
    "colab": {
      "provenance": [],
      "gpuType": "T4"
    },
    "kernelspec": {
      "display_name": "Python 3",
      "name": "python3"
    },
    "language_info": {
      "name": "python"
    },
    "accelerator": "GPU"
  },
  "nbformat": 4,
  "nbformat_minor": 0
}